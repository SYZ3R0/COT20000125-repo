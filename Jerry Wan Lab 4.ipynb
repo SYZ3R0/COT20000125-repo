{
 "cells": [
  {
   "cell_type": "markdown",
   "id": "6546eb6f-c870-4ed0-96d6-6141e462918a",
   "metadata": {},
   "source": [
    "# Jerry Wan\n",
    "# Lab 4 - Sets with Python\n",
    "### COT2000 - Spring 2025"
   ]
  },
  {
   "cell_type": "code",
   "execution_count": 1,
   "id": "fa2b4fae-6f56-491b-9739-cadb6efe97dc",
   "metadata": {},
   "outputs": [
    {
     "name": "stdout",
     "output_type": "stream",
     "text": [
      "{1, 2, 3, 4, 5}\n",
      "{1, 2, 3, 4, 5, 6}\n"
     ]
    }
   ],
   "source": [
    "my_set = {333, 22, 1}\n",
    "print(my_set)\n",
    "my_set.add (6)\n",
    "print(my_set)"
   ]
  },
  {
   "cell_type": "code",
   "execution_count": 2,
   "id": "efe286ef-0a04-4d5b-8ad6-5d130205db19",
   "metadata": {},
   "outputs": [
    {
     "name": "stdout",
     "output_type": "stream",
     "text": [
      "True\n",
      "False\n",
      "True\n"
     ]
    }
   ],
   "source": [
    "print(4 in my_set)  \n",
    "print(8 in my_set)  \n",
    "print(2 in my_set)\n"
   ]
  },
  {
   "cell_type": "code",
   "execution_count": 3,
   "id": "04379130-9c02-49f9-a809-635836d0d5d0",
   "metadata": {},
   "outputs": [
    {
     "name": "stdout",
     "output_type": "stream",
     "text": [
      "True\n",
      "True\n",
      "True\n",
      "True\n"
     ]
    }
   ],
   "source": [
    "subset = {1, 2}                      \n",
    "print(subset.issubset(my_set))       \n",
    "print(my_set.issuperset(subset))     \n",
    "subset2 = {2,3}\n",
    "print(subset2.issubset(my_set))       \n",
    "print(my_set.issuperset(subset2))  \n"
   ]
  },
  {
   "cell_type": "code",
   "execution_count": 10,
   "id": "36be694a-6659-410b-8b5f-b3ba0af57372",
   "metadata": {},
   "outputs": [
    {
     "name": "stdout",
     "output_type": "stream",
     "text": [
      "Union1: {1, 2, 3, 4, 5}\n",
      "Intersection1: {1, 3, 5}\n",
      "Difference1: {2, 4}\n",
      "Union2: {1, 2, 3, 4, 5, 7}\n",
      "Intersection2: {3, 5}\n",
      "Difference2: {1, 2, 4}\n"
     ]
    }
   ],
   "source": [
    "my_set = {1,2,3,4,5}\n",
    "new_set1 = {1,3,5}\n",
    "new_set2 = {3,5,7}\n",
    "\n",
    "union_set1 = my_set.union(new_set1)                \n",
    "intersection_set1 = my_set.intersection(new_set1) \n",
    "difference_set1 = my_set.difference(new_set1)      \n",
    "union_set2 = my_set.union(new_set2)                \n",
    "intersection_set2 = my_set.intersection(new_set2)  \n",
    "difference_set2 = my_set.difference(new_set2) \n",
    "\n",
    "print(\"Union1:\", union_set1)                          \n",
    "print(\"Intersection1:\", intersection_set1)             \n",
    "print(\"Difference1:\", difference_set1) \n",
    "print(\"Union2:\", union_set2)                          \n",
    "print(\"Intersection2:\", intersection_set2)             \n",
    "print(\"Difference2:\", difference_set2)    \n"
   ]
  },
  {
   "cell_type": "code",
   "execution_count": 5,
   "id": "88c0c8ee-9689-4eb6-ba93-83795da79e2f",
   "metadata": {},
   "outputs": [
    {
     "name": "stdout",
     "output_type": "stream",
     "text": [
      "Cartesian Product: A x B = {(2, 3), (2, 4), (1, 3), (1, 4)}\n",
      "Cartesian Product: C x D = {(6, 6), (6, 7), (5, 6), (5, 7)}\n"
     ]
    }
   ],
   "source": [
    "A = {1, 2} \n",
    "B = {3, 4} \n",
    "\n",
    "cartesian_product = {(a, b) for a in A for b in B}  \n",
    "\n",
    "print(\"Cartesian Product: A x B =\", cartesian_product) \n",
    "\n",
    "C = {5,6}\n",
    "D = {6,7}\n",
    "\n",
    "cartesian_product = {(a, b) for a in C for b in D} \n",
    "\n",
    "print(\"Cartesian Product: C x D =\", cartesian_product) \n"
   ]
  },
  {
   "cell_type": "code",
   "execution_count": 2,
   "id": "1d39f544-fed1-4e1f-994c-9c38b7783f1f",
   "metadata": {},
   "outputs": [
    {
     "data": {
      "image/png": "[encoded data removed]",
      "text/plain": [
       "<Figure size 640x480 with 1 Axes>"
      ]
     },
     "metadata": {},
     "output_type": "display_data"
    }
   ],
   "source": [
    "import matplotlib.pyplot as plt\n",
    "import itertools\n",
    "\n",
    "A = {5,2}\n",
    "B = {1,4}\n",
    "cartesian_product = list(itertools.product(A, B))\n",
    "\n",
    "x_coords = [x for x, y in cartesian_product]  \n",
    "y_coords = [y for x, y in cartesian_product]  \n",
    "\n",
    "\n",
    "plt.scatter(x_coords, y_coords) \n",
    "plt.title(\"Cartesian Plane\") \n",
    "plt.xlabel(\"X-axis\") \n",
    "plt.ylabel(\"Y-axis\")  \n",
    "plt.grid(True)  \n",
    "plt.show() \n",
    "\n"
   ]
  },
  {
   "cell_type": "code",
   "execution_count": 3,
   "id": "712070e7-b70f-4a98-bed1-0982056ad11a",
   "metadata": {},
   "outputs": [
    {
     "name": "stdout",
     "output_type": "stream",
     "text": [
      "Relation R: {(2, 4), (1, 3)}\n",
      "Relation R2: {(2, 3), (1, 4)}\n"
     ]
    }
   ],
   "source": [
    "A = {1, 2} \n",
    "B = {3, 4}\n",
    "\n",
    "\n",
    "R = {(1, 3), (2, 4)}\n",
    "print(\"Relation R:\", R) \n",
    "\n",
    "R2 = {(1, 4), (2, 3)}\n",
    "print('Relation R2:',R2)\n"
   ]
  },
  {
   "cell_type": "code",
   "execution_count": 7,
   "id": "427f19d2-13bb-4ec7-bfae-2d4590e108ad",
   "metadata": {},
   "outputs": [
    {
     "name": "stdout",
     "output_type": "stream",
     "text": [
      "f is a function: True\n",
      "f2 is a function: False\n"
     ]
    }
   ],
   "source": [
    "def is_function(relation, domain):\n",
    "    domain_elements = [pair[0] for pair in relation]\n",
    "    return all(domain_elements.count(e) == 1 for e in domain)\n",
    "\n",
    "A = {1, 2} \n",
    "B = {3, 4} \n",
    "\n",
    "f = {(1, 3), (2, 4)}\n",
    "f2 = {(1, 3), (1, 4)}\n",
    "\n",
    "print(\"f is a function:\", is_function(f, A))\n",
    "print(\"f2 is a function:\", is_function(f2, A))\n",
    "\n"
   ]
  },
  {
   "cell_type": "code",
   "execution_count": null,
   "id": "41b61fcd-1152-4498-8a2a-b6276bffe065",
   "metadata": {},
   "outputs": [],
   "source": []
  }
 ],
 "metadata": {
  "kernelspec": {
   "display_name": "Python 3",
   "language": "python",
   "name": "python3"
  },
  "language_info": {
   "codemirror_mode": {
    "name": "ipython",
    "version": 3
   },
   "file_extension": ".py",
   "mimetype": "text/x-python",
   "name": "python",
   "nbconvert_exporter": "python",
   "pygments_lexer": "ipython3",
   "version": "3.12.6"
  }
 },
 "nbformat": 4,
 "nbformat_minor": 5
}
